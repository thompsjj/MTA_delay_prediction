{
 "metadata": {
  "name": "",
  "signature": "sha256:ba31f8b3f8c7be472fe4c7d19a862b153188132806df88ca2ed5edcad2fc0a1c"
 },
 "nbformat": 3,
 "nbformat_minor": 0,
 "worksheets": [
  {
   "cells": [
    {
     "cell_type": "code",
     "collapsed": false,
     "input": [
      "handle = '/Users/datascientist/jared/MTA_delay_prediction/google_transit/stop_times.txt'\n"
     ],
     "language": "python",
     "metadata": {},
     "outputs": [],
     "prompt_number": 171
    },
    {
     "cell_type": "code",
     "collapsed": false,
     "input": [
      "import pandas as pd\n",
      "df = pd.read_csv(handle)"
     ],
     "language": "python",
     "metadata": {},
     "outputs": [],
     "prompt_number": 172
    },
    {
     "cell_type": "code",
     "collapsed": false,
     "input": [
      "df.columns"
     ],
     "language": "python",
     "metadata": {},
     "outputs": [
      {
       "metadata": {},
       "output_type": "pyout",
       "prompt_number": 173,
       "text": [
        "Index([u'trip_id', u'arrival_time', u'departure_time', u'stop_id', u'stop_sequence', u'stop_headsign', u'pickup_type', u'drop_off_type', u'shape_dist_traveled'], dtype='object')"
       ]
      }
     ],
     "prompt_number": 173
    },
    {
     "cell_type": "code",
     "collapsed": false,
     "input": [
      "df.shape"
     ],
     "language": "python",
     "metadata": {},
     "outputs": [
      {
       "metadata": {},
       "output_type": "pyout",
       "prompt_number": 174,
       "text": [
        "(530632, 9)"
       ]
      }
     ],
     "prompt_number": 174
    },
    {
     "cell_type": "code",
     "collapsed": false,
     "input": [
      "df = df.drop(['stop_headsign', u'pickup_type', u'drop_off_type', u'shape_dist_traveled'],1)"
     ],
     "language": "python",
     "metadata": {},
     "outputs": [],
     "prompt_number": 175
    },
    {
     "cell_type": "code",
     "collapsed": false,
     "input": [
      "df.columns"
     ],
     "language": "python",
     "metadata": {},
     "outputs": [
      {
       "metadata": {},
       "output_type": "pyout",
       "prompt_number": 176,
       "text": [
        "Index([u'trip_id', u'arrival_time', u'departure_time', u'stop_id', u'stop_sequence'], dtype='object')"
       ]
      }
     ],
     "prompt_number": 176
    },
    {
     "cell_type": "code",
     "collapsed": false,
     "input": [
      "def get_day(id_string):\n",
      "    return id_string.split('_')[0][-3:]"
     ],
     "language": "python",
     "metadata": {},
     "outputs": [],
     "prompt_number": 177
    },
    {
     "cell_type": "code",
     "collapsed": false,
     "input": [
      "df['trip_day'] = df['trip_id'].apply(get_day)"
     ],
     "language": "python",
     "metadata": {},
     "outputs": [],
     "prompt_number": 178
    },
    {
     "cell_type": "code",
     "collapsed": false,
     "input": [
      "df_mon = df[df['trip_day']=='WKD']\n",
      "df_tue = df[df['trip_day']=='WKD']\n",
      "df_wed = df[df['trip_day']=='WKD']\n",
      "df_thu = df[df['trip_day']=='WKD']\n",
      "df_fri = df[df['trip_day']=='WKD']\n",
      "df_sat = df[df['trip_day']=='SAT']\n",
      "df_sun = df[df['trip_day']=='SUN']"
     ],
     "language": "python",
     "metadata": {},
     "outputs": [],
     "prompt_number": 207
    },
    {
     "cell_type": "code",
     "collapsed": false,
     "input": [
      "max(df_tue['arrival_time'])"
     ],
     "language": "python",
     "metadata": {},
     "outputs": [
      {
       "metadata": {},
       "output_type": "pyout",
       "prompt_number": 180,
       "text": [
        "'27:49:00'"
       ]
      }
     ],
     "prompt_number": 180
    },
    {
     "cell_type": "code",
     "collapsed": false,
     "input": [
      "df_sat.shape"
     ],
     "language": "python",
     "metadata": {},
     "outputs": [
      {
       "metadata": {},
       "output_type": "pyout",
       "prompt_number": 181,
       "text": [
        "(162438, 6)"
       ]
      }
     ],
     "prompt_number": 181
    },
    {
     "cell_type": "code",
     "collapsed": false,
     "input": [
      "df_mon['trip_day'] = df_mon['trip_day'].apply(lambda x:'MON')\n",
      "df_tue['trip_day'] = df_tue['trip_day'].apply(lambda x:'TUE')\n",
      "df_wed['trip_day'] = df_wed['trip_day'].apply(lambda x:'WED')\n",
      "df_thu['trip_day'] = df_thu['trip_day'].apply(lambda x:'THU')\n",
      "df_fri['trip_day'] = df_fri['trip_day'].apply(lambda x:'FRI')\n"
     ],
     "language": "python",
     "metadata": {},
     "outputs": [],
     "prompt_number": 208
    },
    {
     "cell_type": "code",
     "collapsed": false,
     "input": [
      "df_mon['arrival_time'] = df_mon['arrival_time'].apply(lambda x: pd.to_timedelta(x))\n",
      "df_tue['arrival_time'] = df_tue['arrival_time'].apply(lambda x: pd.to_timedelta(x))\n",
      "df_wed['arrival_time'] = df_wed['arrival_time'].apply(lambda x: pd.to_timedelta(x))\n",
      "df_thu['arrival_time'] = df_thu['arrival_time'].apply(lambda x: pd.to_timedelta(x))\n",
      "df_fri['arrival_time'] = df_fri['arrival_time'].apply(lambda x: pd.to_timedelta(x))\n",
      "df_sat['arrival_time'] = df_sat['arrival_time'].apply(lambda x: pd.to_timedelta(x))\n",
      "df_sun['arrival_time'] = df_sun['arrival_time'].apply(lambda x: pd.to_timedelta(x))"
     ],
     "language": "python",
     "metadata": {},
     "outputs": [],
     "prompt_number": 209
    },
    {
     "cell_type": "code",
     "collapsed": false,
     "input": [
      "df_mon['departure_time'] = df_mon['departure_time'].apply(lambda x: pd.to_timedelta(x))\n",
      "df_tue['departure_time'] = df_tue['departure_time'].apply(lambda x: pd.to_timedelta(x))\n",
      "df_wed['departure_time'] = df_wed['departure_time'].apply(lambda x: pd.to_timedelta(x))\n",
      "df_thu['departure_time'] = df_thu['departure_time'].apply(lambda x: pd.to_timedelta(x))\n",
      "df_fri['departure_time'] = df_fri['departure_time'].apply(lambda x: pd.to_timedelta(x))\n",
      "df_sat['departure_time'] = df_sat['departure_time'].apply(lambda x: pd.to_timedelta(x))\n",
      "df_sun['departure_time'] = df_sun['departure_time'].apply(lambda x: pd.to_timedelta(x))"
     ],
     "language": "python",
     "metadata": {},
     "outputs": [],
     "prompt_number": 210
    },
    {
     "cell_type": "code",
     "collapsed": false,
     "input": [
      "overtime_mon = df_mon[df_mon['arrival_time']>=pd.to_timedelta('24:00:00')]\n",
      "overtime_tue = df_tue[df_tue['arrival_time']>=pd.to_timedelta('24:00:00')]\n",
      "overtime_wed = df_wed[df_wed['arrival_time']>=pd.to_timedelta('24:00:00')]\n",
      "overtime_thu = df_thu[df_thu['arrival_time']>=pd.to_timedelta('24:00:00')]\n",
      "overtime_fri = df_fri[df_fri['arrival_time']>=pd.to_timedelta('24:00:00')]\n",
      "overtime_sat = df_sat[df_sat['arrival_time']>=pd.to_timedelta('24:00:00')]\n",
      "overtime_sun = df_sun[df_sun['arrival_time']>=pd.to_timedelta('24:00:00')]"
     ],
     "language": "python",
     "metadata": {},
     "outputs": [],
     "prompt_number": 211
    },
    {
     "cell_type": "code",
     "collapsed": false,
     "input": [
      "df_mon = df_mon[df_mon['arrival_time']<pd.to_timedelta('24:00:00')]\n",
      "df_tue = df_tue[df_tue['arrival_time']<pd.to_timedelta('24:00:00')]\n",
      "df_wed = df_wed[df_wed['arrival_time']<pd.to_timedelta('24:00:00')]\n",
      "df_thu = df_thu[df_thu['arrival_time']<pd.to_timedelta('24:00:00')]\n",
      "df_fri = df_fri[df_fri['arrival_time']<pd.to_timedelta('24:00:00')]\n",
      "df_sat = df_sat[df_sat['arrival_time']<pd.to_timedelta('24:00:00')]\n",
      "df_sun = df_sun[df_sun['arrival_time']<pd.to_timedelta('24:00:00')]"
     ],
     "language": "python",
     "metadata": {},
     "outputs": [],
     "prompt_number": 212
    },
    {
     "cell_type": "code",
     "collapsed": false,
     "input": [
      "overtime_mon['arrival_time'] = overtime_mon['arrival_time'].apply(lambda x: x-pd.to_timedelta('24:00:00'))\n",
      "overtime_tue['arrival_time'] = overtime_tue['arrival_time'].apply(lambda x: x-pd.to_timedelta('24:00:00'))\n",
      "overtime_wed['arrival_time'] = overtime_wed['arrival_time'].apply(lambda x: x-pd.to_timedelta('24:00:00'))\n",
      "overtime_thu['arrival_time'] = overtime_thu['arrival_time'].apply(lambda x: x-pd.to_timedelta('24:00:00'))\n",
      "overtime_fri['arrival_time'] = overtime_fri['arrival_time'].apply(lambda x: x-pd.to_timedelta('24:00:00'))\n",
      "overtime_sat['arrival_time'] = overtime_sat['arrival_time'].apply(lambda x: x-pd.to_timedelta('24:00:00'))\n",
      "overtime_sun['arrival_time'] = overtime_sun['arrival_time'].apply(lambda x: x-pd.to_timedelta('24:00:00'))"
     ],
     "language": "python",
     "metadata": {},
     "outputs": [],
     "prompt_number": 213
    },
    {
     "cell_type": "code",
     "collapsed": false,
     "input": [
      "max(overtime_mon['arrival_time'])"
     ],
     "language": "python",
     "metadata": {},
     "outputs": [
      {
       "metadata": {},
       "output_type": "pyout",
       "prompt_number": 166,
       "text": [
        "Timedelta('0 days 03:49:00')"
       ]
      }
     ],
     "prompt_number": 166
    },
    {
     "cell_type": "code",
     "collapsed": false,
     "input": [
      "overtime_mon['departure_time'] = overtime_mon['departure_time'].apply(lambda x: x-pd.to_timedelta('24:00:00'))\n",
      "overtime_tue['departure_time'] = overtime_tue['departure_time'].apply(lambda x: x-pd.to_timedelta('24:00:00'))\n",
      "overtime_wed['departure_time'] = overtime_wed['departure_time'].apply(lambda x: x-pd.to_timedelta('24:00:00'))\n",
      "overtime_thu['departure_time'] = overtime_thu['departure_time'].apply(lambda x: x-pd.to_timedelta('24:00:00'))\n",
      "overtime_fri['departure_time'] = overtime_fri['departure_time'].apply(lambda x: x-pd.to_timedelta('24:00:00'))\n",
      "overtime_sat['departure_time'] = overtime_sat['departure_time'].apply(lambda x: x-pd.to_timedelta('24:00:00'))\n",
      "overtime_sun['departure_time'] = overtime_sun['departure_time'].apply(lambda x: x-pd.to_timedelta('24:00:00'))"
     ],
     "language": "python",
     "metadata": {},
     "outputs": [],
     "prompt_number": 214
    },
    {
     "cell_type": "code",
     "collapsed": false,
     "input": [
      "overtime_sun.head()"
     ],
     "language": "python",
     "metadata": {},
     "outputs": [
      {
       "html": [
        "<div style=\"max-height:1000px;max-width:1500px;overflow:auto;\">\n",
        "<table border=\"1\" class=\"dataframe\">\n",
        "  <thead>\n",
        "    <tr style=\"text-align: right;\">\n",
        "      <th></th>\n",
        "      <th>trip_id</th>\n",
        "      <th>arrival_time</th>\n",
        "      <th>departure_time</th>\n",
        "      <th>stop_id</th>\n",
        "      <th>stop_sequence</th>\n",
        "      <th>trip_day</th>\n",
        "    </tr>\n",
        "  </thead>\n",
        "  <tbody>\n",
        "    <tr>\n",
        "      <th>7263</th>\n",
        "      <td> A20141207SUN_140400_3..N01R</td>\n",
        "      <td>00:03:00</td>\n",
        "      <td>00:03:00</td>\n",
        "      <td> 132N</td>\n",
        "      <td> 24</td>\n",
        "      <td> SUN</td>\n",
        "    </tr>\n",
        "    <tr>\n",
        "      <th>7264</th>\n",
        "      <td> A20141207SUN_140400_3..N01R</td>\n",
        "      <td>00:05:30</td>\n",
        "      <td>00:05:30</td>\n",
        "      <td> 128N</td>\n",
        "      <td> 25</td>\n",
        "      <td> SUN</td>\n",
        "    </tr>\n",
        "    <tr>\n",
        "      <th>7265</th>\n",
        "      <td> A20141207SUN_140400_3..N01R</td>\n",
        "      <td>00:06:30</td>\n",
        "      <td>00:06:30</td>\n",
        "      <td> 127N</td>\n",
        "      <td> 26</td>\n",
        "      <td> SUN</td>\n",
        "    </tr>\n",
        "    <tr>\n",
        "      <th>7266</th>\n",
        "      <td> A20141207SUN_140400_3..N01R</td>\n",
        "      <td>00:10:00</td>\n",
        "      <td>00:10:00</td>\n",
        "      <td> 123N</td>\n",
        "      <td> 27</td>\n",
        "      <td> SUN</td>\n",
        "    </tr>\n",
        "    <tr>\n",
        "      <th>7267</th>\n",
        "      <td> A20141207SUN_140400_3..N01R</td>\n",
        "      <td>00:12:30</td>\n",
        "      <td>00:12:30</td>\n",
        "      <td> 120N</td>\n",
        "      <td> 28</td>\n",
        "      <td> SUN</td>\n",
        "    </tr>\n",
        "  </tbody>\n",
        "</table>\n",
        "</div>"
       ],
       "metadata": {},
       "output_type": "pyout",
       "prompt_number": 157,
       "text": [
        "                          trip_id  arrival_time  departure_time stop_id  \\\n",
        "7263  A20141207SUN_140400_3..N01R      00:03:00        00:03:00    132N   \n",
        "7264  A20141207SUN_140400_3..N01R      00:05:30        00:05:30    128N   \n",
        "7265  A20141207SUN_140400_3..N01R      00:06:30        00:06:30    127N   \n",
        "7266  A20141207SUN_140400_3..N01R      00:10:00        00:10:00    123N   \n",
        "7267  A20141207SUN_140400_3..N01R      00:12:30        00:12:30    120N   \n",
        "\n",
        "      stop_sequence trip_day  \n",
        "7263             24      SUN  \n",
        "7264             25      SUN  \n",
        "7265             26      SUN  \n",
        "7266             27      SUN  \n",
        "7267             28      SUN  "
       ]
      }
     ],
     "prompt_number": 157
    },
    {
     "cell_type": "code",
     "collapsed": false,
     "input": [
      "df_tue.shape"
     ],
     "language": "python",
     "metadata": {},
     "outputs": [
      {
       "metadata": {},
       "output_type": "pyout",
       "prompt_number": 203,
       "text": [
        "(217696, 6)"
       ]
      }
     ],
     "prompt_number": 203
    },
    {
     "cell_type": "code",
     "collapsed": false,
     "input": [
      "# Drop over columns"
     ],
     "language": "python",
     "metadata": {},
     "outputs": []
    },
    {
     "cell_type": "code",
     "collapsed": false,
     "input": [
      "min(overtime_mon['arrival_time'])"
     ],
     "language": "python",
     "metadata": {},
     "outputs": [
      {
       "metadata": {},
       "output_type": "pyout",
       "prompt_number": 215,
       "text": [
        "Timedelta('0 days 00:00:00')"
       ]
      }
     ],
     "prompt_number": 215
    },
    {
     "cell_type": "code",
     "collapsed": false,
     "input": [
      "max(df_tue['arrival_time'])"
     ],
     "language": "python",
     "metadata": {},
     "outputs": [
      {
       "metadata": {},
       "output_type": "pyout",
       "prompt_number": 216,
       "text": [
        "Timedelta('0 days 23:59:30')"
       ]
      }
     ],
     "prompt_number": 216
    },
    {
     "cell_type": "code",
     "collapsed": false,
     "input": [
      "df_mon.append(overtime_sun);\n",
      "df_tue.append(overtime_mon);\n",
      "df_wed.append(overtime_tue);\n",
      "df_thu.append(overtime_wed);\n",
      "df_fri.append(overtime_thu);\n",
      "df_sat.append(overtime_fri);\n",
      "df_sun.append(overtime_sat);"
     ],
     "language": "python",
     "metadata": {},
     "outputs": [],
     "prompt_number": 217
    },
    {
     "cell_type": "code",
     "collapsed": false,
     "input": [
      "max(df_mon['arrival_time'])"
     ],
     "language": "python",
     "metadata": {},
     "outputs": [
      {
       "metadata": {},
       "output_type": "pyout",
       "prompt_number": 218,
       "text": [
        "Timedelta('0 days 23:59:30')"
       ]
      }
     ],
     "prompt_number": 218
    },
    {
     "cell_type": "code",
     "collapsed": false,
     "input": [
      "new_df = pd.DataFrame()\n",
      "new_df = new_df.append([df_mon,df_tue,df_wed,df_thu,df_fri,df_sat,df_sun])"
     ],
     "language": "python",
     "metadata": {},
     "outputs": [],
     "prompt_number": 219
    },
    {
     "cell_type": "code",
     "collapsed": false,
     "input": [
      "new_df.shape"
     ],
     "language": "python",
     "metadata": {},
     "outputs": [
      {
       "metadata": {},
       "output_type": "pyout",
       "prompt_number": 220,
       "text": [
        "(1384379, 6)"
       ]
      }
     ],
     "prompt_number": 220
    },
    {
     "cell_type": "code",
     "collapsed": false,
     "input": [
      "new_df['arrival_time'] = new_df['arrival_time'].apply(lambda x: pd.to_datetime(x))\n",
      "new_df['departure_time'] = new_df['departure_time'].apply(lambda x: pd.to_datetime(x))"
     ],
     "language": "python",
     "metadata": {},
     "outputs": [],
     "prompt_number": 221
    },
    {
     "cell_type": "code",
     "collapsed": false,
     "input": [
      "new_df.to_csv('/Users/datascientist/jared/MTA_delay_prediction/google_transit/corrected_stop_times.txt')"
     ],
     "language": "python",
     "metadata": {},
     "outputs": [],
     "prompt_number": 222
    }
   ],
   "metadata": {}
  }
 ]
}